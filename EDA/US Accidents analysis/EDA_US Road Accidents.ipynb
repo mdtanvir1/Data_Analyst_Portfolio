{
 "cells": [
  {
   "cell_type": "code",
   "execution_count": 1,
   "id": "4de7094e",
   "metadata": {},
   "outputs": [
    {
     "name": "stdout",
     "output_type": "stream",
     "text": [
      "Note: you may need to restart the kernel to use updated packages.\n"
     ]
    }
   ],
   "source": [
    "pip install opendatasets --quiet"
   ]
  },
  {
   "cell_type": "code",
   "execution_count": 2,
   "id": "37db88db",
   "metadata": {},
   "outputs": [],
   "source": [
    "import opendatasets as od\n",
    "import pandas as pd\n",
    "import numpy as np\n",
    "import matplotlib.pyplot as plt\n",
    "import seaborn as sns"
   ]
  },
  {
   "cell_type": "markdown",
   "id": "6373fb7d",
   "metadata": {},
   "source": [
    "# Us Accidents Exploratory Data Analysis"
   ]
  },
  {
   "cell_type": "markdown",
   "id": "c33e11ae",
   "metadata": {},
   "source": [
    "## Data Download"
   ]
  },
  {
   "cell_type": "code",
   "execution_count": 3,
   "id": "e32210d5",
   "metadata": {},
   "outputs": [],
   "source": [
    "url = 'https://www.kaggle.com/datasets/sobhanmoosavi/us-accidents'"
   ]
  },
  {
   "cell_type": "code",
   "execution_count": 4,
   "id": "65bd40a5",
   "metadata": {},
   "outputs": [
    {
     "name": "stdout",
     "output_type": "stream",
     "text": [
      "Please provide your Kaggle credentials to download this dataset. Learn more: http://bit.ly/kaggle-creds\n",
      "Your Kaggle username: totanvir\n",
      "Your Kaggle Key: ········\n",
      "Downloading us-accidents.zip to .\\us-accidents\n"
     ]
    },
    {
     "name": "stderr",
     "output_type": "stream",
     "text": [
      "100%|████████████████████████████████████████████████████████████████████████████████| 269M/269M [07:47<00:00, 604kB/s]\n"
     ]
    },
    {
     "name": "stdout",
     "output_type": "stream",
     "text": [
      "\n"
     ]
    }
   ],
   "source": [
    "od.download(url)"
   ]
  },
  {
   "cell_type": "code",
   "execution_count": 8,
   "id": "fa73415a",
   "metadata": {},
   "outputs": [],
   "source": [
    "data_filename = './us-accidents/US_Accidents_Dec21_updated.csv'"
   ]
  },
  {
   "cell_type": "markdown",
   "id": "76c9287e",
   "metadata": {},
   "source": [
    "## Data Exploration, Data cleaning and Visualization"
   ]
  },
  {
   "cell_type": "code",
   "execution_count": null,
   "id": "b250097c",
   "metadata": {},
   "outputs": [],
   "source": [
    "df = pd.read_csv(data_filename)\n",
    "df.head()"
   ]
  },
  {
   "cell_type": "code",
   "execution_count": null,
   "id": "9f99575f",
   "metadata": {},
   "outputs": [],
   "source": []
  },
  {
   "cell_type": "markdown",
   "id": "47f14dea",
   "metadata": {},
   "source": [
    "## Ask and answer questions"
   ]
  },
  {
   "cell_type": "code",
   "execution_count": null,
   "id": "1b0e0f1c",
   "metadata": {},
   "outputs": [],
   "source": []
  },
  {
   "cell_type": "code",
   "execution_count": null,
   "id": "d29405ef",
   "metadata": {},
   "outputs": [],
   "source": []
  },
  {
   "cell_type": "markdown",
   "id": "e2cc6f7c",
   "metadata": {},
   "source": [
    "## Summary and Conclusions"
   ]
  },
  {
   "cell_type": "code",
   "execution_count": null,
   "id": "795bb676",
   "metadata": {},
   "outputs": [],
   "source": []
  },
  {
   "cell_type": "code",
   "execution_count": null,
   "id": "7ef7d92e",
   "metadata": {},
   "outputs": [],
   "source": []
  },
  {
   "cell_type": "code",
   "execution_count": null,
   "id": "c3df62f3",
   "metadata": {},
   "outputs": [],
   "source": []
  }
 ],
 "metadata": {
  "kernelspec": {
   "display_name": "Python 3 (ipykernel)",
   "language": "python",
   "name": "python3"
  },
  "language_info": {
   "codemirror_mode": {
    "name": "ipython",
    "version": 3
   },
   "file_extension": ".py",
   "mimetype": "text/x-python",
   "name": "python",
   "nbconvert_exporter": "python",
   "pygments_lexer": "ipython3",
   "version": "3.9.7"
  }
 },
 "nbformat": 4,
 "nbformat_minor": 5
}
