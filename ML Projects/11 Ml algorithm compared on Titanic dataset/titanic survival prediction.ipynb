{
 "cells": [
  {
   "cell_type": "code",
   "execution_count": 1,
   "id": "c016fa90",
   "metadata": {},
   "outputs": [],
   "source": [
    "import numpy as np\n",
    "import pandas as pd \n",
    "import seaborn as sns\n",
    "import matplotlib.pyplot as plt\n",
    "%matplotlib inline\n",
    "\n",
    "from sklearn.metrics import classification_report\n",
    "from sklearn.model_selection import train_test_split\n",
    "from sklearn.linear_model import LinearRegression\n",
    "from sklearn.metrics import r2_score\n",
    "from sklearn.metrics import mean_squared_error\n",
    "import warnings\n",
    "warnings.simplefilter('ignore')"
   ]
  },
  {
   "cell_type": "code",
   "execution_count": 2,
   "id": "087b81db",
   "metadata": {},
   "outputs": [],
   "source": [
    "df = pd.read_csv('titanic.csv')"
   ]
  },
  {
   "cell_type": "code",
   "execution_count": 3,
   "id": "893c9a78",
   "metadata": {
    "scrolled": true
   },
   "outputs": [
    {
     "data": {
      "text/html": [
       "<div>\n",
       "<style scoped>\n",
       "    .dataframe tbody tr th:only-of-type {\n",
       "        vertical-align: middle;\n",
       "    }\n",
       "\n",
       "    .dataframe tbody tr th {\n",
       "        vertical-align: top;\n",
       "    }\n",
       "\n",
       "    .dataframe thead th {\n",
       "        text-align: right;\n",
       "    }\n",
       "</style>\n",
       "<table border=\"1\" class=\"dataframe\">\n",
       "  <thead>\n",
       "    <tr style=\"text-align: right;\">\n",
       "      <th></th>\n",
       "      <th>PassengerId</th>\n",
       "      <th>Survived</th>\n",
       "      <th>Pclass</th>\n",
       "      <th>Name</th>\n",
       "      <th>Sex</th>\n",
       "      <th>Age</th>\n",
       "      <th>SibSp</th>\n",
       "      <th>Parch</th>\n",
       "      <th>Ticket</th>\n",
       "      <th>Fare</th>\n",
       "      <th>Cabin</th>\n",
       "      <th>Embarked</th>\n",
       "    </tr>\n",
       "  </thead>\n",
       "  <tbody>\n",
       "    <tr>\n",
       "      <th>0</th>\n",
       "      <td>1</td>\n",
       "      <td>0</td>\n",
       "      <td>3</td>\n",
       "      <td>Braund, Mr. Owen Harris</td>\n",
       "      <td>male</td>\n",
       "      <td>22.0</td>\n",
       "      <td>1</td>\n",
       "      <td>0</td>\n",
       "      <td>A/5 21171</td>\n",
       "      <td>7.2500</td>\n",
       "      <td>NaN</td>\n",
       "      <td>S</td>\n",
       "    </tr>\n",
       "    <tr>\n",
       "      <th>1</th>\n",
       "      <td>2</td>\n",
       "      <td>1</td>\n",
       "      <td>1</td>\n",
       "      <td>Cumings, Mrs. John Bradley (Florence Briggs Th...</td>\n",
       "      <td>female</td>\n",
       "      <td>38.0</td>\n",
       "      <td>1</td>\n",
       "      <td>0</td>\n",
       "      <td>PC 17599</td>\n",
       "      <td>71.2833</td>\n",
       "      <td>C85</td>\n",
       "      <td>C</td>\n",
       "    </tr>\n",
       "    <tr>\n",
       "      <th>2</th>\n",
       "      <td>3</td>\n",
       "      <td>1</td>\n",
       "      <td>3</td>\n",
       "      <td>Heikkinen, Miss. Laina</td>\n",
       "      <td>female</td>\n",
       "      <td>26.0</td>\n",
       "      <td>0</td>\n",
       "      <td>0</td>\n",
       "      <td>STON/O2. 3101282</td>\n",
       "      <td>7.9250</td>\n",
       "      <td>NaN</td>\n",
       "      <td>S</td>\n",
       "    </tr>\n",
       "    <tr>\n",
       "      <th>3</th>\n",
       "      <td>4</td>\n",
       "      <td>1</td>\n",
       "      <td>1</td>\n",
       "      <td>Futrelle, Mrs. Jacques Heath (Lily May Peel)</td>\n",
       "      <td>female</td>\n",
       "      <td>35.0</td>\n",
       "      <td>1</td>\n",
       "      <td>0</td>\n",
       "      <td>113803</td>\n",
       "      <td>53.1000</td>\n",
       "      <td>C123</td>\n",
       "      <td>S</td>\n",
       "    </tr>\n",
       "    <tr>\n",
       "      <th>4</th>\n",
       "      <td>5</td>\n",
       "      <td>0</td>\n",
       "      <td>3</td>\n",
       "      <td>Allen, Mr. William Henry</td>\n",
       "      <td>male</td>\n",
       "      <td>35.0</td>\n",
       "      <td>0</td>\n",
       "      <td>0</td>\n",
       "      <td>373450</td>\n",
       "      <td>8.0500</td>\n",
       "      <td>NaN</td>\n",
       "      <td>S</td>\n",
       "    </tr>\n",
       "  </tbody>\n",
       "</table>\n",
       "</div>"
      ],
      "text/plain": [
       "   PassengerId  Survived  Pclass  \\\n",
       "0            1         0       3   \n",
       "1            2         1       1   \n",
       "2            3         1       3   \n",
       "3            4         1       1   \n",
       "4            5         0       3   \n",
       "\n",
       "                                                Name     Sex   Age  SibSp  \\\n",
       "0                            Braund, Mr. Owen Harris    male  22.0      1   \n",
       "1  Cumings, Mrs. John Bradley (Florence Briggs Th...  female  38.0      1   \n",
       "2                             Heikkinen, Miss. Laina  female  26.0      0   \n",
       "3       Futrelle, Mrs. Jacques Heath (Lily May Peel)  female  35.0      1   \n",
       "4                           Allen, Mr. William Henry    male  35.0      0   \n",
       "\n",
       "   Parch            Ticket     Fare Cabin Embarked  \n",
       "0      0         A/5 21171   7.2500   NaN        S  \n",
       "1      0          PC 17599  71.2833   C85        C  \n",
       "2      0  STON/O2. 3101282   7.9250   NaN        S  \n",
       "3      0            113803  53.1000  C123        S  \n",
       "4      0            373450   8.0500   NaN        S  "
      ]
     },
     "execution_count": 3,
     "metadata": {},
     "output_type": "execute_result"
    }
   ],
   "source": [
    "df.head()"
   ]
  },
  {
   "cell_type": "code",
   "execution_count": 4,
   "id": "9048c2d6",
   "metadata": {},
   "outputs": [],
   "source": [
    "tab_info=pd.DataFrame(df.dtypes).T.rename(index={0:'column type'})\n",
    "tab_info = tab_info.append(pd.DataFrame(df.isnull().sum()).T.rename(index={0:'null values (nb)'}))\n",
    "tab_info = tab_info.append(pd.DataFrame(df.isnull().sum()/df.isnull().shape[0]*100).T.rename(index={0:'null values %'}))\n"
   ]
  },
  {
   "cell_type": "code",
   "execution_count": 5,
   "id": "6cbafb3c",
   "metadata": {
    "scrolled": false
   },
   "outputs": [
    {
     "data": {
      "text/html": [
       "<div>\n",
       "<style scoped>\n",
       "    .dataframe tbody tr th:only-of-type {\n",
       "        vertical-align: middle;\n",
       "    }\n",
       "\n",
       "    .dataframe tbody tr th {\n",
       "        vertical-align: top;\n",
       "    }\n",
       "\n",
       "    .dataframe thead th {\n",
       "        text-align: right;\n",
       "    }\n",
       "</style>\n",
       "<table border=\"1\" class=\"dataframe\">\n",
       "  <thead>\n",
       "    <tr style=\"text-align: right;\">\n",
       "      <th></th>\n",
       "      <th>PassengerId</th>\n",
       "      <th>Survived</th>\n",
       "      <th>Pclass</th>\n",
       "      <th>Name</th>\n",
       "      <th>Sex</th>\n",
       "      <th>Age</th>\n",
       "      <th>SibSp</th>\n",
       "      <th>Parch</th>\n",
       "      <th>Ticket</th>\n",
       "      <th>Fare</th>\n",
       "      <th>Cabin</th>\n",
       "      <th>Embarked</th>\n",
       "    </tr>\n",
       "  </thead>\n",
       "  <tbody>\n",
       "    <tr>\n",
       "      <th>column type</th>\n",
       "      <td>int64</td>\n",
       "      <td>int64</td>\n",
       "      <td>int64</td>\n",
       "      <td>object</td>\n",
       "      <td>object</td>\n",
       "      <td>float64</td>\n",
       "      <td>int64</td>\n",
       "      <td>int64</td>\n",
       "      <td>object</td>\n",
       "      <td>float64</td>\n",
       "      <td>object</td>\n",
       "      <td>object</td>\n",
       "    </tr>\n",
       "    <tr>\n",
       "      <th>null values (nb)</th>\n",
       "      <td>0</td>\n",
       "      <td>0</td>\n",
       "      <td>0</td>\n",
       "      <td>0</td>\n",
       "      <td>0</td>\n",
       "      <td>177</td>\n",
       "      <td>0</td>\n",
       "      <td>0</td>\n",
       "      <td>0</td>\n",
       "      <td>0</td>\n",
       "      <td>687</td>\n",
       "      <td>2</td>\n",
       "    </tr>\n",
       "    <tr>\n",
       "      <th>null values %</th>\n",
       "      <td>0.0</td>\n",
       "      <td>0.0</td>\n",
       "      <td>0.0</td>\n",
       "      <td>0.0</td>\n",
       "      <td>0.0</td>\n",
       "      <td>19.86532</td>\n",
       "      <td>0.0</td>\n",
       "      <td>0.0</td>\n",
       "      <td>0.0</td>\n",
       "      <td>0.0</td>\n",
       "      <td>77.104377</td>\n",
       "      <td>0.224467</td>\n",
       "    </tr>\n",
       "  </tbody>\n",
       "</table>\n",
       "</div>"
      ],
      "text/plain": [
       "                 PassengerId Survived Pclass    Name     Sex       Age  SibSp  \\\n",
       "column type            int64    int64  int64  object  object   float64  int64   \n",
       "null values (nb)           0        0      0       0       0       177      0   \n",
       "null values %            0.0      0.0    0.0     0.0     0.0  19.86532    0.0   \n",
       "\n",
       "                  Parch  Ticket     Fare      Cabin  Embarked  \n",
       "column type       int64  object  float64     object    object  \n",
       "null values (nb)      0       0        0        687         2  \n",
       "null values %       0.0     0.0      0.0  77.104377  0.224467  "
      ]
     },
     "execution_count": 5,
     "metadata": {},
     "output_type": "execute_result"
    }
   ],
   "source": [
    "tab_info"
   ]
  },
  {
   "cell_type": "code",
   "execution_count": 6,
   "id": "aaf2cff1",
   "metadata": {},
   "outputs": [
    {
     "data": {
      "text/plain": [
       "(891, 12)"
      ]
     },
     "execution_count": 6,
     "metadata": {},
     "output_type": "execute_result"
    }
   ],
   "source": [
    "df.shape"
   ]
  },
  {
   "cell_type": "markdown",
   "id": "7982d5d1",
   "metadata": {},
   "source": [
    "####  missing values percentage in the cabin column is way above imputation acceptance limit, so let's drop the column entirely"
   ]
  },
  {
   "cell_type": "code",
   "execution_count": 7,
   "id": "23332ce5",
   "metadata": {},
   "outputs": [],
   "source": [
    "df.drop('Cabin', axis=1, inplace=True)"
   ]
  },
  {
   "cell_type": "markdown",
   "id": "e7c72c9a",
   "metadata": {},
   "source": [
    "#### Missing value imputation"
   ]
  },
  {
   "cell_type": "code",
   "execution_count": 8,
   "id": "cf48c8a1",
   "metadata": {},
   "outputs": [
    {
     "data": {
      "text/plain": [
       "count    714.000000\n",
       "mean      29.699118\n",
       "std       14.526497\n",
       "min        0.420000\n",
       "25%       20.125000\n",
       "50%       28.000000\n",
       "75%       38.000000\n",
       "max       80.000000\n",
       "Name: Age, dtype: float64"
      ]
     },
     "execution_count": 8,
     "metadata": {},
     "output_type": "execute_result"
    }
   ],
   "source": [
    "df['Age'].describe()"
   ]
  },
  {
   "cell_type": "code",
   "execution_count": 9,
   "id": "fa768977",
   "metadata": {},
   "outputs": [],
   "source": [
    "df['Age'].fillna(df.Age.mean(), inplace=True)"
   ]
  },
  {
   "cell_type": "code",
   "execution_count": 10,
   "id": "f80fc199",
   "metadata": {},
   "outputs": [],
   "source": [
    "df.dropna(subset=['Fare'], inplace=True)"
   ]
  },
  {
   "cell_type": "code",
   "execution_count": 11,
   "id": "b7024ab8",
   "metadata": {},
   "outputs": [],
   "source": [
    "df['Embarked'].fillna(method='bfill', inplace=True)"
   ]
  },
  {
   "cell_type": "code",
   "execution_count": 12,
   "id": "322fd5fd",
   "metadata": {
    "scrolled": true
   },
   "outputs": [
    {
     "data": {
      "text/plain": [
       "PassengerId    0\n",
       "Survived       0\n",
       "Pclass         0\n",
       "Name           0\n",
       "Sex            0\n",
       "Age            0\n",
       "SibSp          0\n",
       "Parch          0\n",
       "Ticket         0\n",
       "Fare           0\n",
       "Embarked       0\n",
       "dtype: int64"
      ]
     },
     "execution_count": 12,
     "metadata": {},
     "output_type": "execute_result"
    }
   ],
   "source": [
    "df.isnull().sum()"
   ]
  },
  {
   "cell_type": "code",
   "execution_count": 13,
   "id": "8e5ac3b7",
   "metadata": {
    "scrolled": true
   },
   "outputs": [
    {
     "data": {
      "text/plain": [
       "(891, 11)"
      ]
     },
     "execution_count": 13,
     "metadata": {},
     "output_type": "execute_result"
    }
   ],
   "source": [
    "df.shape"
   ]
  },
  {
   "cell_type": "markdown",
   "id": "0793824f",
   "metadata": {},
   "source": [
    "##### Visualize "
   ]
  },
  {
   "cell_type": "code",
   "execution_count": 14,
   "id": "b1ea3d9f",
   "metadata": {},
   "outputs": [],
   "source": [
    "sns.set_theme(context='notebook',\n",
    "              style='whitegrid',\n",
    "              palette='rainbow',\n",
    "              font='Lucida Calligraphy',\n",
    "              font_scale=1.2,\n",
    "              rc=None)"
   ]
  },
  {
   "cell_type": "code",
   "execution_count": 15,
   "id": "d6e2062d",
   "metadata": {
    "scrolled": true
   },
   "outputs": [
    {
     "data": {
      "text/plain": [
       "<AxesSubplot:xlabel='Survived', ylabel='count'>"
      ]
     },
     "execution_count": 15,
     "metadata": {},
     "output_type": "execute_result"
    },
    {
     "data": {
      "image/png": "[encoded data removed]",
      "text/plain": [
       "<Figure size 432x288 with 1 Axes>"
      ]
     },
     "metadata": {},
     "output_type": "display_data"
    }
   ],
   "source": [
    "sns.countplot(data=df, hue='Sex', x='Survived' )"
   ]
  },
  {
   "cell_type": "code",
   "execution_count": 16,
   "id": "255767c5",
   "metadata": {},
   "outputs": [
    {
     "data": {
      "image/png": "[encoded data removed]",
      "text/plain": [
       "<Figure size 432x288 with 1 Axes>"
      ]
     },
     "metadata": {},
     "output_type": "display_data"
    }
   ],
   "source": [
    "ax = sns.countplot(x='Survived', data=df)\n",
    "ax.bar_label(ax.containers[0])\n",
    "plt.xlabel('Survived',color='Green',loc='center',font='Lucida Calligraphy')\n",
    "plt.ylabel('Count',color='Red',loc='center',font='Lucida Calligraphy');"
   ]
  },
  {
   "cell_type": "code",
   "execution_count": 17,
   "id": "b1e7e580",
   "metadata": {},
   "outputs": [
    {
     "data": {
      "image/png": "[encoded data removed]",
      "text/plain": [
       "<Figure size 432x288 with 1 Axes>"
      ]
     },
     "metadata": {},
     "output_type": "display_data"
    }
   ],
   "source": [
    "ax = sns.countplot(x='Survived',hue='Pclass', data=df)\n",
    "plt.xlabel('Survived',color='Green',loc='center',font='Lucida Calligraphy')\n",
    "plt.ylabel('Count',color='Red',loc='center',font='Lucida Calligraphy');"
   ]
  },
  {
   "cell_type": "code",
   "execution_count": 18,
   "id": "3237cb6b",
   "metadata": {
    "scrolled": true
   },
   "outputs": [
    {
     "data": {
      "image/png": "[encoded data removed]",
      "text/plain": [
       "<Figure size 432x288 with 1 Axes>"
      ]
     },
     "metadata": {},
     "output_type": "display_data"
    }
   ],
   "source": [
    "sns.histplot(data=df, x='Fare', bins=20, binwidth=50)\n",
    "plt.xlabel('Fare',color='Green',loc='center',font='Lucida Calligraphy')\n",
    "plt.ylabel('Count',color='Red',loc='center',font='Lucida Calligraphy');"
   ]
  },
  {
   "cell_type": "code",
   "execution_count": 19,
   "id": "3254d8a4",
   "metadata": {},
   "outputs": [
    {
     "data": {
      "image/png": "[encoded data removed]",
      "text/plain": [
       "<Figure size 432x288 with 1 Axes>"
      ]
     },
     "metadata": {},
     "output_type": "display_data"
    }
   ],
   "source": [
    "sns.countplot(x='SibSp', data=df)\n",
    "plt.xlabel('SibSp',color='Green',loc='center',font='Lucida Calligraphy')\n",
    "plt.ylabel('Count',color='Red',loc='center',font='Lucida Calligraphy');"
   ]
  },
  {
   "cell_type": "code",
   "execution_count": 20,
   "id": "cae27a81",
   "metadata": {},
   "outputs": [
    {
     "data": {
      "text/plain": [
       "<AxesSubplot:xlabel='Survived', ylabel='count'>"
      ]
     },
     "execution_count": 20,
     "metadata": {},
     "output_type": "execute_result"
    },
    {
     "data": {
      "image/png": "[encoded data removed]",
      "text/plain": [
       "<Figure size 432x288 with 1 Axes>"
      ]
     },
     "metadata": {},
     "output_type": "display_data"
    }
   ],
   "source": [
    "sns.countplot( x='Survived', data=df, hue=\"Embarked\", palette=\"Set1\")"
   ]
  },
  {
   "cell_type": "code",
   "execution_count": 21,
   "id": "3c28e7e9",
   "metadata": {},
   "outputs": [
    {
     "data": {
      "image/png": "[encoded data removed]",
      "text/plain": [
       "<Figure size 432x288 with 1 Axes>"
      ]
     },
     "metadata": {},
     "output_type": "display_data"
    }
   ],
   "source": [
    "df['Embarked'].value_counts().plot.pie(explode=[0.1, 0.1, 0.1],\n",
    "                                     autopct='%1.2f%%',\n",
    "                                     shadow=True)\n",
    "plt.title('Embarked Distribution',color='Red',loc='center');"
   ]
  },
  {
   "cell_type": "code",
   "execution_count": 22,
   "id": "e3fb4f46",
   "metadata": {
    "scrolled": true
   },
   "outputs": [
    {
     "data": {
      "text/html": [
       "<style type=\"text/css\">\n",
       "#T_65db8_row0_col0, #T_65db8_row1_col1, #T_65db8_row2_col2, #T_65db8_row3_col3, #T_65db8_row4_col4, #T_65db8_row5_col5, #T_65db8_row6_col6 {\n",
       "  background-color: #b40426;\n",
       "  color: #f1f1f1;\n",
       "}\n",
       "#T_65db8_row0_col1 {\n",
       "  background-color: #8caffe;\n",
       "  color: #000000;\n",
       "}\n",
       "#T_65db8_row0_col2 {\n",
       "  background-color: #a9c6fd;\n",
       "  color: #000000;\n",
       "}\n",
       "#T_65db8_row0_col3 {\n",
       "  background-color: #96b7ff;\n",
       "  color: #000000;\n",
       "}\n",
       "#T_65db8_row0_col4, #T_65db8_row3_col2 {\n",
       "  background-color: #6788ee;\n",
       "  color: #f1f1f1;\n",
       "}\n",
       "#T_65db8_row0_col5 {\n",
       "  background-color: #6a8bef;\n",
       "  color: #f1f1f1;\n",
       "}\n",
       "#T_65db8_row0_col6 {\n",
       "  background-color: #b3cdfb;\n",
       "  color: #000000;\n",
       "}\n",
       "#T_65db8_row1_col0 {\n",
       "  background-color: #4961d2;\n",
       "  color: #f1f1f1;\n",
       "}\n",
       "#T_65db8_row1_col2 {\n",
       "  background-color: #6485ec;\n",
       "  color: #f1f1f1;\n",
       "}\n",
       "#T_65db8_row1_col3 {\n",
       "  background-color: #7a9df8;\n",
       "  color: #f1f1f1;\n",
       "}\n",
       "#T_65db8_row1_col4 {\n",
       "  background-color: #6c8ff1;\n",
       "  color: #f1f1f1;\n",
       "}\n",
       "#T_65db8_row1_col5 {\n",
       "  background-color: #82a6fb;\n",
       "  color: #f1f1f1;\n",
       "}\n",
       "#T_65db8_row1_col6 {\n",
       "  background-color: #e2dad5;\n",
       "  color: #000000;\n",
       "}\n",
       "#T_65db8_row2_col0 {\n",
       "  background-color: #4055c8;\n",
       "  color: #f1f1f1;\n",
       "}\n",
       "#T_65db8_row2_col1, #T_65db8_row2_col3, #T_65db8_row2_col6, #T_65db8_row3_col4, #T_65db8_row3_col5, #T_65db8_row4_col0, #T_65db8_row6_col2 {\n",
       "  background-color: #3b4cc0;\n",
       "  color: #f1f1f1;\n",
       "}\n",
       "#T_65db8_row2_col4 {\n",
       "  background-color: #8fb1fe;\n",
       "  color: #000000;\n",
       "}\n",
       "#T_65db8_row2_col5 {\n",
       "  background-color: #6f92f3;\n",
       "  color: #f1f1f1;\n",
       "}\n",
       "#T_65db8_row3_col0 {\n",
       "  background-color: #5470de;\n",
       "  color: #f1f1f1;\n",
       "}\n",
       "#T_65db8_row3_col1 {\n",
       "  background-color: #7b9ff9;\n",
       "  color: #f1f1f1;\n",
       "}\n",
       "#T_65db8_row3_col6 {\n",
       "  background-color: #c4d5f3;\n",
       "  color: #000000;\n",
       "}\n",
       "#T_65db8_row4_col1 {\n",
       "  background-color: #84a7fc;\n",
       "  color: #f1f1f1;\n",
       "}\n",
       "#T_65db8_row4_col2 {\n",
       "  background-color: #c3d5f4;\n",
       "  color: #000000;\n",
       "}\n",
       "#T_65db8_row4_col3 {\n",
       "  background-color: #506bda;\n",
       "  color: #f1f1f1;\n",
       "}\n",
       "#T_65db8_row4_col5 {\n",
       "  background-color: #dddcdc;\n",
       "  color: #000000;\n",
       "}\n",
       "#T_65db8_row4_col6 {\n",
       "  background-color: #d2dbe8;\n",
       "  color: #000000;\n",
       "}\n",
       "#T_65db8_row5_col0 {\n",
       "  background-color: #4a63d3;\n",
       "  color: #f1f1f1;\n",
       "}\n",
       "#T_65db8_row5_col1 {\n",
       "  background-color: #a3c2fe;\n",
       "  color: #000000;\n",
       "}\n",
       "#T_65db8_row5_col2 {\n",
       "  background-color: #b5cdfa;\n",
       "  color: #000000;\n",
       "}\n",
       "#T_65db8_row5_col3 {\n",
       "  background-color: #5e7de7;\n",
       "  color: #f1f1f1;\n",
       "}\n",
       "#T_65db8_row5_col4 {\n",
       "  background-color: #e3d9d3;\n",
       "  color: #000000;\n",
       "}\n",
       "#T_65db8_row5_col6 {\n",
       "  background-color: #dbdcde;\n",
       "  color: #000000;\n",
       "}\n",
       "#T_65db8_row6_col0 {\n",
       "  background-color: #4e68d8;\n",
       "  color: #f1f1f1;\n",
       "}\n",
       "#T_65db8_row6_col1 {\n",
       "  background-color: #cdd9ec;\n",
       "  color: #000000;\n",
       "}\n",
       "#T_65db8_row6_col3, #T_65db8_row6_col4 {\n",
       "  background-color: #a5c3fe;\n",
       "  color: #000000;\n",
       "}\n",
       "#T_65db8_row6_col5 {\n",
       "  background-color: #aac7fd;\n",
       "  color: #000000;\n",
       "}\n",
       "</style>\n",
       "<table id=\"T_65db8_\">\n",
       "  <thead>\n",
       "    <tr>\n",
       "      <th class=\"blank level0\" >&nbsp;</th>\n",
       "      <th class=\"col_heading level0 col0\" >PassengerId</th>\n",
       "      <th class=\"col_heading level0 col1\" >Survived</th>\n",
       "      <th class=\"col_heading level0 col2\" >Pclass</th>\n",
       "      <th class=\"col_heading level0 col3\" >Age</th>\n",
       "      <th class=\"col_heading level0 col4\" >SibSp</th>\n",
       "      <th class=\"col_heading level0 col5\" >Parch</th>\n",
       "      <th class=\"col_heading level0 col6\" >Fare</th>\n",
       "    </tr>\n",
       "  </thead>\n",
       "  <tbody>\n",
       "    <tr>\n",
       "      <th id=\"T_65db8_level0_row0\" class=\"row_heading level0 row0\" >PassengerId</th>\n",
       "      <td id=\"T_65db8_row0_col0\" class=\"data row0 col0\" >1.000</td>\n",
       "      <td id=\"T_65db8_row0_col1\" class=\"data row0 col1\" >-0.005</td>\n",
       "      <td id=\"T_65db8_row0_col2\" class=\"data row0 col2\" >-0.035</td>\n",
       "      <td id=\"T_65db8_row0_col3\" class=\"data row0 col3\" >0.033</td>\n",
       "      <td id=\"T_65db8_row0_col4\" class=\"data row0 col4\" >-0.058</td>\n",
       "      <td id=\"T_65db8_row0_col5\" class=\"data row0 col5\" >-0.002</td>\n",
       "      <td id=\"T_65db8_row0_col6\" class=\"data row0 col6\" >0.013</td>\n",
       "    </tr>\n",
       "    <tr>\n",
       "      <th id=\"T_65db8_level0_row1\" class=\"row_heading level0 row1\" >Survived</th>\n",
       "      <td id=\"T_65db8_row1_col0\" class=\"data row1 col0\" >-0.005</td>\n",
       "      <td id=\"T_65db8_row1_col1\" class=\"data row1 col1\" >1.000</td>\n",
       "      <td id=\"T_65db8_row1_col2\" class=\"data row1 col2\" >-0.338</td>\n",
       "      <td id=\"T_65db8_row1_col3\" class=\"data row1 col3\" >-0.070</td>\n",
       "      <td id=\"T_65db8_row1_col4\" class=\"data row1 col4\" >-0.035</td>\n",
       "      <td id=\"T_65db8_row1_col5\" class=\"data row1 col5\" >0.082</td>\n",
       "      <td id=\"T_65db8_row1_col6\" class=\"data row1 col6\" >0.257</td>\n",
       "    </tr>\n",
       "    <tr>\n",
       "      <th id=\"T_65db8_level0_row2\" class=\"row_heading level0 row2\" >Pclass</th>\n",
       "      <td id=\"T_65db8_row2_col0\" class=\"data row2 col0\" >-0.035</td>\n",
       "      <td id=\"T_65db8_row2_col1\" class=\"data row2 col1\" >-0.338</td>\n",
       "      <td id=\"T_65db8_row2_col2\" class=\"data row2 col2\" >1.000</td>\n",
       "      <td id=\"T_65db8_row2_col3\" class=\"data row2 col3\" >-0.331</td>\n",
       "      <td id=\"T_65db8_row2_col4\" class=\"data row2 col4\" >0.083</td>\n",
       "      <td id=\"T_65db8_row2_col5\" class=\"data row2 col5\" >0.018</td>\n",
       "      <td id=\"T_65db8_row2_col6\" class=\"data row2 col6\" >-0.549</td>\n",
       "    </tr>\n",
       "    <tr>\n",
       "      <th id=\"T_65db8_level0_row3\" class=\"row_heading level0 row3\" >Age</th>\n",
       "      <td id=\"T_65db8_row3_col0\" class=\"data row3 col0\" >0.033</td>\n",
       "      <td id=\"T_65db8_row3_col1\" class=\"data row3 col1\" >-0.070</td>\n",
       "      <td id=\"T_65db8_row3_col2\" class=\"data row3 col2\" >-0.331</td>\n",
       "      <td id=\"T_65db8_row3_col3\" class=\"data row3 col3\" >1.000</td>\n",
       "      <td id=\"T_65db8_row3_col4\" class=\"data row3 col4\" >-0.233</td>\n",
       "      <td id=\"T_65db8_row3_col5\" class=\"data row3 col5\" >-0.179</td>\n",
       "      <td id=\"T_65db8_row3_col6\" class=\"data row3 col6\" >0.092</td>\n",
       "    </tr>\n",
       "    <tr>\n",
       "      <th id=\"T_65db8_level0_row4\" class=\"row_heading level0 row4\" >SibSp</th>\n",
       "      <td id=\"T_65db8_row4_col0\" class=\"data row4 col0\" >-0.058</td>\n",
       "      <td id=\"T_65db8_row4_col1\" class=\"data row4 col1\" >-0.035</td>\n",
       "      <td id=\"T_65db8_row4_col2\" class=\"data row4 col2\" >0.083</td>\n",
       "      <td id=\"T_65db8_row4_col3\" class=\"data row4 col3\" >-0.233</td>\n",
       "      <td id=\"T_65db8_row4_col4\" class=\"data row4 col4\" >1.000</td>\n",
       "      <td id=\"T_65db8_row4_col5\" class=\"data row4 col5\" >0.415</td>\n",
       "      <td id=\"T_65db8_row4_col6\" class=\"data row4 col6\" >0.160</td>\n",
       "    </tr>\n",
       "    <tr>\n",
       "      <th id=\"T_65db8_level0_row5\" class=\"row_heading level0 row5\" >Parch</th>\n",
       "      <td id=\"T_65db8_row5_col0\" class=\"data row5 col0\" >-0.002</td>\n",
       "      <td id=\"T_65db8_row5_col1\" class=\"data row5 col1\" >0.082</td>\n",
       "      <td id=\"T_65db8_row5_col2\" class=\"data row5 col2\" >0.018</td>\n",
       "      <td id=\"T_65db8_row5_col3\" class=\"data row5 col3\" >-0.179</td>\n",
       "      <td id=\"T_65db8_row5_col4\" class=\"data row5 col4\" >0.415</td>\n",
       "      <td id=\"T_65db8_row5_col5\" class=\"data row5 col5\" >1.000</td>\n",
       "      <td id=\"T_65db8_row5_col6\" class=\"data row5 col6\" >0.216</td>\n",
       "    </tr>\n",
       "    <tr>\n",
       "      <th id=\"T_65db8_level0_row6\" class=\"row_heading level0 row6\" >Fare</th>\n",
       "      <td id=\"T_65db8_row6_col0\" class=\"data row6 col0\" >0.013</td>\n",
       "      <td id=\"T_65db8_row6_col1\" class=\"data row6 col1\" >0.257</td>\n",
       "      <td id=\"T_65db8_row6_col2\" class=\"data row6 col2\" >-0.549</td>\n",
       "      <td id=\"T_65db8_row6_col3\" class=\"data row6 col3\" >0.092</td>\n",
       "      <td id=\"T_65db8_row6_col4\" class=\"data row6 col4\" >0.160</td>\n",
       "      <td id=\"T_65db8_row6_col5\" class=\"data row6 col5\" >0.216</td>\n",
       "      <td id=\"T_65db8_row6_col6\" class=\"data row6 col6\" >1.000</td>\n",
       "    </tr>\n",
       "  </tbody>\n",
       "</table>\n"
      ],
      "text/plain": [
       "<pandas.io.formats.style.Styler at 0x26a1ff518b0>"
      ]
     },
     "execution_count": 22,
     "metadata": {},
     "output_type": "execute_result"
    }
   ],
   "source": [
    "df.corr().style.background_gradient(cmap='coolwarm').set_precision(3)"
   ]
  },
  {
   "cell_type": "code",
   "execution_count": 23,
   "id": "0a4d61d3",
   "metadata": {},
   "outputs": [
    {
     "data": {
      "text/plain": [
       "<AxesSubplot:xlabel='Age', ylabel='Count'>"
      ]
     },
     "execution_count": 23,
     "metadata": {},
     "output_type": "execute_result"
    },
    {
     "data": {
      "image/png": "[encoded data removed]",
      "text/plain": [
       "<Figure size 432x288 with 1 Axes>"
      ]
     },
     "metadata": {},
     "output_type": "display_data"
    }
   ],
   "source": [
    "sns.histplot(data=df, x='Age')"
   ]
  },
  {
   "cell_type": "code",
   "execution_count": 24,
   "id": "0adf739e",
   "metadata": {},
   "outputs": [
    {
     "data": {
      "text/plain": [
       "Index(['Survived', 'Pclass', 'Fare'], dtype='object')"
      ]
     },
     "execution_count": 24,
     "metadata": {},
     "output_type": "execute_result"
    }
   ],
   "source": [
    "hig_corr = df.corr()\n",
    "hig_corr_features = hig_corr.index[abs(hig_corr[\"Fare\"]) >= 0.25]\n",
    "hig_corr_features"
   ]
  },
  {
   "cell_type": "code",
   "execution_count": 25,
   "id": "10ad2c60",
   "metadata": {},
   "outputs": [
    {
     "data": {
      "image/png": "[encoded data removed]",
      "text/plain": [
       "<Figure size 720x576 with 2 Axes>"
      ]
     },
     "metadata": {},
     "output_type": "display_data"
    }
   ],
   "source": [
    "plt.figure(figsize=(10,8))\n",
    "ax = sns.heatmap(df[hig_corr_features].corr(), cmap = \"coolwarm\", annot=True, linewidth=3)\n",
    "bottom, top = ax.get_ylim()\n",
    "ax.set_ylim(bottom + 0.5, top - 0.5)\n",
    "plt.show()"
   ]
  },
  {
   "cell_type": "markdown",
   "id": "2d075372",
   "metadata": {},
   "source": [
    "#### Feature Engineering"
   ]
  },
  {
   "cell_type": "code",
   "execution_count": 26,
   "id": "4e4a8b08",
   "metadata": {},
   "outputs": [
    {
     "data": {
      "text/html": [
       "<div>\n",
       "<style scoped>\n",
       "    .dataframe tbody tr th:only-of-type {\n",
       "        vertical-align: middle;\n",
       "    }\n",
       "\n",
       "    .dataframe tbody tr th {\n",
       "        vertical-align: top;\n",
       "    }\n",
       "\n",
       "    .dataframe thead th {\n",
       "        text-align: right;\n",
       "    }\n",
       "</style>\n",
       "<table border=\"1\" class=\"dataframe\">\n",
       "  <thead>\n",
       "    <tr style=\"text-align: right;\">\n",
       "      <th></th>\n",
       "      <th>PassengerId</th>\n",
       "      <th>Survived</th>\n",
       "      <th>Pclass</th>\n",
       "      <th>Name</th>\n",
       "      <th>Age</th>\n",
       "      <th>SibSp</th>\n",
       "      <th>Parch</th>\n",
       "      <th>Ticket</th>\n",
       "      <th>Fare</th>\n",
       "      <th>Sex_male</th>\n",
       "      <th>Embarked_Q</th>\n",
       "      <th>Embarked_S</th>\n",
       "    </tr>\n",
       "  </thead>\n",
       "  <tbody>\n",
       "    <tr>\n",
       "      <th>0</th>\n",
       "      <td>1</td>\n",
       "      <td>0</td>\n",
       "      <td>3</td>\n",
       "      <td>Braund, Mr. Owen Harris</td>\n",
       "      <td>22.0</td>\n",
       "      <td>1</td>\n",
       "      <td>0</td>\n",
       "      <td>A/5 21171</td>\n",
       "      <td>7.2500</td>\n",
       "      <td>1</td>\n",
       "      <td>0</td>\n",
       "      <td>1</td>\n",
       "    </tr>\n",
       "    <tr>\n",
       "      <th>1</th>\n",
       "      <td>2</td>\n",
       "      <td>1</td>\n",
       "      <td>1</td>\n",
       "      <td>Cumings, Mrs. John Bradley (Florence Briggs Th...</td>\n",
       "      <td>38.0</td>\n",
       "      <td>1</td>\n",
       "      <td>0</td>\n",
       "      <td>PC 17599</td>\n",
       "      <td>71.2833</td>\n",
       "      <td>0</td>\n",
       "      <td>0</td>\n",
       "      <td>0</td>\n",
       "    </tr>\n",
       "    <tr>\n",
       "      <th>2</th>\n",
       "      <td>3</td>\n",
       "      <td>1</td>\n",
       "      <td>3</td>\n",
       "      <td>Heikkinen, Miss. Laina</td>\n",
       "      <td>26.0</td>\n",
       "      <td>0</td>\n",
       "      <td>0</td>\n",
       "      <td>STON/O2. 3101282</td>\n",
       "      <td>7.9250</td>\n",
       "      <td>0</td>\n",
       "      <td>0</td>\n",
       "      <td>1</td>\n",
       "    </tr>\n",
       "    <tr>\n",
       "      <th>3</th>\n",
       "      <td>4</td>\n",
       "      <td>1</td>\n",
       "      <td>1</td>\n",
       "      <td>Futrelle, Mrs. Jacques Heath (Lily May Peel)</td>\n",
       "      <td>35.0</td>\n",
       "      <td>1</td>\n",
       "      <td>0</td>\n",
       "      <td>113803</td>\n",
       "      <td>53.1000</td>\n",
       "      <td>0</td>\n",
       "      <td>0</td>\n",
       "      <td>1</td>\n",
       "    </tr>\n",
       "    <tr>\n",
       "      <th>4</th>\n",
       "      <td>5</td>\n",
       "      <td>0</td>\n",
       "      <td>3</td>\n",
       "      <td>Allen, Mr. William Henry</td>\n",
       "      <td>35.0</td>\n",
       "      <td>0</td>\n",
       "      <td>0</td>\n",
       "      <td>373450</td>\n",
       "      <td>8.0500</td>\n",
       "      <td>1</td>\n",
       "      <td>0</td>\n",
       "      <td>1</td>\n",
       "    </tr>\n",
       "  </tbody>\n",
       "</table>\n",
       "</div>"
      ],
      "text/plain": [
       "   PassengerId  Survived  Pclass  \\\n",
       "0            1         0       3   \n",
       "1            2         1       1   \n",
       "2            3         1       3   \n",
       "3            4         1       1   \n",
       "4            5         0       3   \n",
       "\n",
       "                                                Name   Age  SibSp  Parch  \\\n",
       "0                            Braund, Mr. Owen Harris  22.0      1      0   \n",
       "1  Cumings, Mrs. John Bradley (Florence Briggs Th...  38.0      1      0   \n",
       "2                             Heikkinen, Miss. Laina  26.0      0      0   \n",
       "3       Futrelle, Mrs. Jacques Heath (Lily May Peel)  35.0      1      0   \n",
       "4                           Allen, Mr. William Henry  35.0      0      0   \n",
       "\n",
       "             Ticket     Fare  Sex_male  Embarked_Q  Embarked_S  \n",
       "0         A/5 21171   7.2500         1           0           1  \n",
       "1          PC 17599  71.2833         0           0           0  \n",
       "2  STON/O2. 3101282   7.9250         0           0           1  \n",
       "3            113803  53.1000         0           0           1  \n",
       "4            373450   8.0500         1           0           1  "
      ]
     },
     "execution_count": 26,
     "metadata": {},
     "output_type": "execute_result"
    }
   ],
   "source": [
    "df = pd.get_dummies(df,columns=['Sex','Embarked'],drop_first=True)\n",
    "df.head()"
   ]
  },
  {
   "cell_type": "code",
   "execution_count": 27,
   "id": "1f1b8745",
   "metadata": {},
   "outputs": [],
   "source": [
    "df.drop(columns=['Name', 'Ticket','PassengerId'], inplace=True)"
   ]
  },
  {
   "cell_type": "code",
   "execution_count": 28,
   "id": "77a73bcc",
   "metadata": {},
   "outputs": [
    {
     "data": {
      "text/html": [
       "<div>\n",
       "<style scoped>\n",
       "    .dataframe tbody tr th:only-of-type {\n",
       "        vertical-align: middle;\n",
       "    }\n",
       "\n",
       "    .dataframe tbody tr th {\n",
       "        vertical-align: top;\n",
       "    }\n",
       "\n",
       "    .dataframe thead th {\n",
       "        text-align: right;\n",
       "    }\n",
       "</style>\n",
       "<table border=\"1\" class=\"dataframe\">\n",
       "  <thead>\n",
       "    <tr style=\"text-align: right;\">\n",
       "      <th></th>\n",
       "      <th>Survived</th>\n",
       "      <th>Pclass</th>\n",
       "      <th>Age</th>\n",
       "      <th>SibSp</th>\n",
       "      <th>Parch</th>\n",
       "      <th>Fare</th>\n",
       "      <th>Sex_male</th>\n",
       "      <th>Embarked_Q</th>\n",
       "      <th>Embarked_S</th>\n",
       "    </tr>\n",
       "  </thead>\n",
       "  <tbody>\n",
       "    <tr>\n",
       "      <th>0</th>\n",
       "      <td>0</td>\n",
       "      <td>3</td>\n",
       "      <td>22.0</td>\n",
       "      <td>1</td>\n",
       "      <td>0</td>\n",
       "      <td>7.2500</td>\n",
       "      <td>1</td>\n",
       "      <td>0</td>\n",
       "      <td>1</td>\n",
       "    </tr>\n",
       "    <tr>\n",
       "      <th>1</th>\n",
       "      <td>1</td>\n",
       "      <td>1</td>\n",
       "      <td>38.0</td>\n",
       "      <td>1</td>\n",
       "      <td>0</td>\n",
       "      <td>71.2833</td>\n",
       "      <td>0</td>\n",
       "      <td>0</td>\n",
       "      <td>0</td>\n",
       "    </tr>\n",
       "    <tr>\n",
       "      <th>2</th>\n",
       "      <td>1</td>\n",
       "      <td>3</td>\n",
       "      <td>26.0</td>\n",
       "      <td>0</td>\n",
       "      <td>0</td>\n",
       "      <td>7.9250</td>\n",
       "      <td>0</td>\n",
       "      <td>0</td>\n",
       "      <td>1</td>\n",
       "    </tr>\n",
       "    <tr>\n",
       "      <th>3</th>\n",
       "      <td>1</td>\n",
       "      <td>1</td>\n",
       "      <td>35.0</td>\n",
       "      <td>1</td>\n",
       "      <td>0</td>\n",
       "      <td>53.1000</td>\n",
       "      <td>0</td>\n",
       "      <td>0</td>\n",
       "      <td>1</td>\n",
       "    </tr>\n",
       "    <tr>\n",
       "      <th>4</th>\n",
       "      <td>0</td>\n",
       "      <td>3</td>\n",
       "      <td>35.0</td>\n",
       "      <td>0</td>\n",
       "      <td>0</td>\n",
       "      <td>8.0500</td>\n",
       "      <td>1</td>\n",
       "      <td>0</td>\n",
       "      <td>1</td>\n",
       "    </tr>\n",
       "  </tbody>\n",
       "</table>\n",
       "</div>"
      ],
      "text/plain": [
       "   Survived  Pclass   Age  SibSp  Parch     Fare  Sex_male  Embarked_Q  \\\n",
       "0         0       3  22.0      1      0   7.2500         1           0   \n",
       "1         1       1  38.0      1      0  71.2833         0           0   \n",
       "2         1       3  26.0      0      0   7.9250         0           0   \n",
       "3         1       1  35.0      1      0  53.1000         0           0   \n",
       "4         0       3  35.0      0      0   8.0500         1           0   \n",
       "\n",
       "   Embarked_S  \n",
       "0           1  \n",
       "1           0  \n",
       "2           1  \n",
       "3           1  \n",
       "4           1  "
      ]
     },
     "execution_count": 28,
     "metadata": {},
     "output_type": "execute_result"
    }
   ],
   "source": [
    "df.head()"
   ]
  },
  {
   "cell_type": "markdown",
   "id": "9a824bb9",
   "metadata": {},
   "source": [
    "### Train Test Split"
   ]
  },
  {
   "cell_type": "code",
   "execution_count": 29,
   "id": "a186ff02",
   "metadata": {},
   "outputs": [],
   "source": [
    "X = df.drop(['Survived'],axis=1) \n",
    "Y = df['Survived']"
   ]
  },
  {
   "cell_type": "code",
   "execution_count": 31,
   "id": "2b5bce74",
   "metadata": {},
   "outputs": [],
   "source": [
    "X_train,X_test,Y_train,Y_test = train_test_split(X,Y,test_size=0.2,random_state=21)"
   ]
  },
  {
   "cell_type": "markdown",
   "id": "9aa21538",
   "metadata": {},
   "source": [
    "### Standardizing the data"
   ]
  },
  {
   "cell_type": "code",
   "execution_count": 32,
   "id": "d1a9226e",
   "metadata": {},
   "outputs": [],
   "source": [
    "from sklearn.preprocessing import StandardScaler\n",
    "scaler = StandardScaler()\n",
    "X_train = scaler.fit_transform(X_train)\n",
    "X_test = scaler.transform(X_test)\n",
    "\n",
    "X_train = pd.DataFrame(X_train, columns=X.columns)\n",
    "X_test = pd.DataFrame(X_test, columns=X.columns)"
   ]
  },
  {
   "cell_type": "code",
   "execution_count": 33,
   "id": "d761f41d",
   "metadata": {},
   "outputs": [
    {
     "data": {
      "text/html": [
       "<div>\n",
       "<style scoped>\n",
       "    .dataframe tbody tr th:only-of-type {\n",
       "        vertical-align: middle;\n",
       "    }\n",
       "\n",
       "    .dataframe tbody tr th {\n",
       "        vertical-align: top;\n",
       "    }\n",
       "\n",
       "    .dataframe thead th {\n",
       "        text-align: right;\n",
       "    }\n",
       "</style>\n",
       "<table border=\"1\" class=\"dataframe\">\n",
       "  <thead>\n",
       "    <tr style=\"text-align: right;\">\n",
       "      <th></th>\n",
       "      <th>Pclass</th>\n",
       "      <th>Age</th>\n",
       "      <th>SibSp</th>\n",
       "      <th>Parch</th>\n",
       "      <th>Fare</th>\n",
       "      <th>Sex_male</th>\n",
       "      <th>Embarked_Q</th>\n",
       "      <th>Embarked_S</th>\n",
       "    </tr>\n",
       "  </thead>\n",
       "  <tbody>\n",
       "    <tr>\n",
       "      <th>0</th>\n",
       "      <td>-1.584396</td>\n",
       "      <td>0.010681</td>\n",
       "      <td>-0.479698</td>\n",
       "      <td>-0.460682</td>\n",
       "      <td>-0.018600</td>\n",
       "      <td>0.728823</td>\n",
       "      <td>-0.311564</td>\n",
       "      <td>-1.611198</td>\n",
       "    </tr>\n",
       "    <tr>\n",
       "      <th>1</th>\n",
       "      <td>-1.584396</td>\n",
       "      <td>-0.119643</td>\n",
       "      <td>-0.479698</td>\n",
       "      <td>-0.460682</td>\n",
       "      <td>0.079245</td>\n",
       "      <td>0.728823</td>\n",
       "      <td>-0.311564</td>\n",
       "      <td>0.620656</td>\n",
       "    </tr>\n",
       "    <tr>\n",
       "      <th>2</th>\n",
       "      <td>-1.584396</td>\n",
       "      <td>-0.503148</td>\n",
       "      <td>-0.479698</td>\n",
       "      <td>0.810657</td>\n",
       "      <td>0.646624</td>\n",
       "      <td>0.728823</td>\n",
       "      <td>-0.311564</td>\n",
       "      <td>-1.611198</td>\n",
       "    </tr>\n",
       "    <tr>\n",
       "      <th>3</th>\n",
       "      <td>-0.381742</td>\n",
       "      <td>-1.193456</td>\n",
       "      <td>0.493365</td>\n",
       "      <td>-0.460682</td>\n",
       "      <td>-0.031329</td>\n",
       "      <td>-1.372075</td>\n",
       "      <td>-0.311564</td>\n",
       "      <td>-1.611198</td>\n",
       "    </tr>\n",
       "    <tr>\n",
       "      <th>4</th>\n",
       "      <td>0.820913</td>\n",
       "      <td>0.033758</td>\n",
       "      <td>-0.479698</td>\n",
       "      <td>-0.460682</td>\n",
       "      <td>-0.479818</td>\n",
       "      <td>0.728823</td>\n",
       "      <td>-0.311564</td>\n",
       "      <td>0.620656</td>\n",
       "    </tr>\n",
       "  </tbody>\n",
       "</table>\n",
       "</div>"
      ],
      "text/plain": [
       "     Pclass       Age     SibSp     Parch      Fare  Sex_male  Embarked_Q  \\\n",
       "0 -1.584396  0.010681 -0.479698 -0.460682 -0.018600  0.728823   -0.311564   \n",
       "1 -1.584396 -0.119643 -0.479698 -0.460682  0.079245  0.728823   -0.311564   \n",
       "2 -1.584396 -0.503148 -0.479698  0.810657  0.646624  0.728823   -0.311564   \n",
       "3 -0.381742 -1.193456  0.493365 -0.460682 -0.031329 -1.372075   -0.311564   \n",
       "4  0.820913  0.033758 -0.479698 -0.460682 -0.479818  0.728823   -0.311564   \n",
       "\n",
       "   Embarked_S  \n",
       "0   -1.611198  \n",
       "1    0.620656  \n",
       "2   -1.611198  \n",
       "3   -1.611198  \n",
       "4    0.620656  "
      ]
     },
     "metadata": {},
     "output_type": "display_data"
    },
    {
     "data": {
      "text/html": [
       "<div>\n",
       "<style scoped>\n",
       "    .dataframe tbody tr th:only-of-type {\n",
       "        vertical-align: middle;\n",
       "    }\n",
       "\n",
       "    .dataframe tbody tr th {\n",
       "        vertical-align: top;\n",
       "    }\n",
       "\n",
       "    .dataframe thead th {\n",
       "        text-align: right;\n",
       "    }\n",
       "</style>\n",
       "<table border=\"1\" class=\"dataframe\">\n",
       "  <thead>\n",
       "    <tr style=\"text-align: right;\">\n",
       "      <th></th>\n",
       "      <th>Pclass</th>\n",
       "      <th>Age</th>\n",
       "      <th>SibSp</th>\n",
       "      <th>Parch</th>\n",
       "      <th>Fare</th>\n",
       "      <th>Sex_male</th>\n",
       "      <th>Embarked_Q</th>\n",
       "      <th>Embarked_S</th>\n",
       "    </tr>\n",
       "  </thead>\n",
       "  <tbody>\n",
       "    <tr>\n",
       "      <th>0</th>\n",
       "      <td>0.820913</td>\n",
       "      <td>-0.273045</td>\n",
       "      <td>0.493365</td>\n",
       "      <td>-0.460682</td>\n",
       "      <td>-0.315867</td>\n",
       "      <td>-1.372075</td>\n",
       "      <td>-0.311564</td>\n",
       "      <td>0.620656</td>\n",
       "    </tr>\n",
       "    <tr>\n",
       "      <th>1</th>\n",
       "      <td>0.820913</td>\n",
       "      <td>-0.809952</td>\n",
       "      <td>-0.479698</td>\n",
       "      <td>-0.460682</td>\n",
       "      <td>-0.485419</td>\n",
       "      <td>0.728823</td>\n",
       "      <td>-0.311564</td>\n",
       "      <td>0.620656</td>\n",
       "    </tr>\n",
       "    <tr>\n",
       "      <th>2</th>\n",
       "      <td>0.820913</td>\n",
       "      <td>-0.733251</td>\n",
       "      <td>-0.479698</td>\n",
       "      <td>-0.460682</td>\n",
       "      <td>-0.467343</td>\n",
       "      <td>0.728823</td>\n",
       "      <td>-0.311564</td>\n",
       "      <td>0.620656</td>\n",
       "    </tr>\n",
       "    <tr>\n",
       "      <th>3</th>\n",
       "      <td>0.820913</td>\n",
       "      <td>0.010681</td>\n",
       "      <td>-0.479698</td>\n",
       "      <td>-0.460682</td>\n",
       "      <td>0.506858</td>\n",
       "      <td>0.728823</td>\n",
       "      <td>-0.311564</td>\n",
       "      <td>0.620656</td>\n",
       "    </tr>\n",
       "    <tr>\n",
       "      <th>4</th>\n",
       "      <td>-0.381742</td>\n",
       "      <td>0.493964</td>\n",
       "      <td>0.493365</td>\n",
       "      <td>2.081997</td>\n",
       "      <td>-0.078596</td>\n",
       "      <td>0.728823</td>\n",
       "      <td>-0.311564</td>\n",
       "      <td>0.620656</td>\n",
       "    </tr>\n",
       "  </tbody>\n",
       "</table>\n",
       "</div>"
      ],
      "text/plain": [
       "     Pclass       Age     SibSp     Parch      Fare  Sex_male  Embarked_Q  \\\n",
       "0  0.820913 -0.273045  0.493365 -0.460682 -0.315867 -1.372075   -0.311564   \n",
       "1  0.820913 -0.809952 -0.479698 -0.460682 -0.485419  0.728823   -0.311564   \n",
       "2  0.820913 -0.733251 -0.479698 -0.460682 -0.467343  0.728823   -0.311564   \n",
       "3  0.820913  0.010681 -0.479698 -0.460682  0.506858  0.728823   -0.311564   \n",
       "4 -0.381742  0.493964  0.493365  2.081997 -0.078596  0.728823   -0.311564   \n",
       "\n",
       "   Embarked_S  \n",
       "0    0.620656  \n",
       "1    0.620656  \n",
       "2    0.620656  \n",
       "3    0.620656  \n",
       "4    0.620656  "
      ]
     },
     "metadata": {},
     "output_type": "display_data"
    }
   ],
   "source": [
    "display(X_train.head())\n",
    "display(X_test.head())"
   ]
  },
  {
   "cell_type": "markdown",
   "id": "e5c258df",
   "metadata": {},
   "source": [
    "#### Model Implementation"
   ]
  },
  {
   "cell_type": "markdown",
   "id": "065f812c",
   "metadata": {},
   "source": [
    "#### LogisticRegression"
   ]
  },
  {
   "cell_type": "code",
   "execution_count": 34,
   "id": "926d0860",
   "metadata": {},
   "outputs": [
    {
     "name": "stdout",
     "output_type": "stream",
     "text": [
      "Training Accuracy    : 80.48\n",
      "Model Accuracy Score : 80.45\n"
     ]
    }
   ],
   "source": [
    "from sklearn.metrics import accuracy_score\n",
    "from sklearn.linear_model import LogisticRegression\n",
    "log_reg = LogisticRegression()\n",
    "log_reg.fit(X_train, Y_train)\n",
    "\n",
    "Y_pred = log_reg.predict(X_test)\n",
    "\n",
    "log_train = round(log_reg.score(X_train, Y_train) * 100, 2)\n",
    "log_accuracy = round(accuracy_score(Y_pred, Y_test) * 100, 2)\n",
    "\n",
    "print(\"Training Accuracy    :\",log_train)\n",
    "print(\"Model Accuracy Score :\",log_accuracy)"
   ]
  },
  {
   "cell_type": "markdown",
   "id": "c9748ea2",
   "metadata": {},
   "source": [
    "#### Support Vector Machines"
   ]
  },
  {
   "cell_type": "code",
   "execution_count": 35,
   "id": "dd2df573",
   "metadata": {},
   "outputs": [
    {
     "name": "stdout",
     "output_type": "stream",
     "text": [
      "Training Accuracy     : 84.8314606741573\n",
      "Model Accuracy Score  : 82.12\n"
     ]
    }
   ],
   "source": [
    "from sklearn.svm import SVC\n",
    "svc = SVC()\n",
    "svc.fit(X_train, Y_train)\n",
    "Y_pred = svc.predict(X_test)\n",
    "\n",
    "svc_train = svc.score(X_train, Y_train) * 100\n",
    "svc_accuracy = round(accuracy_score(Y_pred, Y_test) * 100, 2)\n",
    "\n",
    "print(\"Training Accuracy     :\",svc_train)\n",
    "print(\"Model Accuracy Score  :\",svc_accuracy)"
   ]
  },
  {
   "cell_type": "markdown",
   "id": "a21c0333",
   "metadata": {},
   "source": [
    "#### KNeighborsClassifier"
   ]
  },
  {
   "cell_type": "code",
   "execution_count": 36,
   "id": "b31d71fd",
   "metadata": {},
   "outputs": [
    {
     "name": "stdout",
     "output_type": "stream",
     "text": [
      "Training Accuracy     : 86.52\n",
      "Model Accuracy Score  : 81.01\n"
     ]
    }
   ],
   "source": [
    "from sklearn.neighbors import KNeighborsClassifier\n",
    "knn = KNeighborsClassifier(n_neighbors = 3)\n",
    "knn.fit(X_train, Y_train)\n",
    "Y_pred = knn.predict(X_test)\n",
    "\n",
    "knn_train = round(knn.score(X_train, Y_train) * 100, 2)\n",
    "knn_accuracy = round(accuracy_score(Y_pred, Y_test) * 100, 2)\n",
    "\n",
    "print(\"Training Accuracy     :\",knn_train)\n",
    "print(\"Model Accuracy Score  :\",knn_accuracy)"
   ]
  },
  {
   "cell_type": "markdown",
   "id": "45fff261",
   "metadata": {},
   "source": [
    "#### GaussianNB"
   ]
  },
  {
   "cell_type": "code",
   "execution_count": 37,
   "id": "4288cd75",
   "metadata": {},
   "outputs": [
    {
     "name": "stdout",
     "output_type": "stream",
     "text": [
      "Training Accuracy     : 79.07\n",
      "Model Accuracy Score  : 81.56\n"
     ]
    }
   ],
   "source": [
    "from sklearn.naive_bayes import GaussianNB\n",
    "gaussian = GaussianNB()\n",
    "gaussian.fit(X_train, Y_train)\n",
    "Y_pred = gaussian.predict(X_test)\n",
    "\n",
    "gaussian_train = round(gaussian.score(X_train, Y_train) * 100, 2)\n",
    "gaussian_accuracy = round(accuracy_score(Y_pred, Y_test) * 100, 2)\n",
    "\n",
    "print(\"Training Accuracy     :\",gaussian_train)\n",
    "print(\"Model Accuracy Score  :\",gaussian_accuracy)"
   ]
  },
  {
   "cell_type": "markdown",
   "id": "d4172227",
   "metadata": {},
   "source": [
    "#### Perceptron"
   ]
  },
  {
   "cell_type": "code",
   "execution_count": 38,
   "id": "94314d7c",
   "metadata": {},
   "outputs": [
    {
     "name": "stdout",
     "output_type": "stream",
     "text": [
      "Training Accuracy    : 71.63\n",
      "Model Accuracy Score : 70.95\n"
     ]
    }
   ],
   "source": [
    "from sklearn.linear_model import Perceptron\n",
    "perceptron = Perceptron()\n",
    "perceptron.fit(X_train, Y_train)\n",
    "Y_pred = perceptron.predict(X_test)\n",
    "\n",
    "\n",
    "perceptron_train = round(perceptron.score(X_train, Y_train) * 100, 2)\n",
    "perceptron_accuracy = round(accuracy_score(Y_pred, Y_test) * 100, 2)\n",
    "\n",
    "print(\"Training Accuracy    :\",perceptron_train)\n",
    "print(\"Model Accuracy Score :\",perceptron_accuracy)"
   ]
  },
  {
   "cell_type": "markdown",
   "id": "5fb7e531",
   "metadata": {},
   "source": [
    "#### LinearSVC"
   ]
  },
  {
   "cell_type": "code",
   "execution_count": 39,
   "id": "ba3d9a9b",
   "metadata": {},
   "outputs": [
    {
     "name": "stdout",
     "output_type": "stream",
     "text": [
      "Training Accuracy    : 80.34\n",
      "Model Accuracy Score : 80.45\n"
     ]
    }
   ],
   "source": [
    "from sklearn.svm import LinearSVC\n",
    "linear_svc = LinearSVC()\n",
    "linear_svc.fit(X_train, Y_train)\n",
    "Y_pred = linear_svc.predict(X_test)\n",
    "\n",
    "linear_svc_train = round(linear_svc.score(X_train, Y_train) * 100, 2)\n",
    "linear_svc_accuracy = round(accuracy_score(Y_pred, Y_test) * 100, 2)\n",
    "\n",
    "print(\"Training Accuracy    :\",linear_svc_train)\n",
    "print(\"Model Accuracy Score :\",linear_svc_accuracy)"
   ]
  },
  {
   "cell_type": "markdown",
   "id": "b17c458c",
   "metadata": {},
   "source": [
    "#### SGDClassifier"
   ]
  },
  {
   "cell_type": "code",
   "execution_count": 40,
   "id": "cffe0a73",
   "metadata": {},
   "outputs": [
    {
     "name": "stdout",
     "output_type": "stream",
     "text": [
      "Training Accuracy     : 80.06\n",
      "Model Accuracy Score  : 79.89\n"
     ]
    }
   ],
   "source": [
    "from sklearn.linear_model import SGDClassifier\n",
    "sgd = SGDClassifier()\n",
    "sgd.fit(X_train, Y_train)\n",
    "Y_pred = sgd.predict(X_test)\n",
    "\n",
    "sgd_train = round(sgd.score(X_train, Y_train) * 100, 2)\n",
    "sgd_accuracy = round(accuracy_score(Y_pred, Y_test) * 100, 2)\n",
    "\n",
    "print(\"Training Accuracy     :\",sgd_train)\n",
    "print(\"Model Accuracy Score  :\",sgd_accuracy)"
   ]
  },
  {
   "cell_type": "markdown",
   "id": "19c0bd42",
   "metadata": {},
   "source": [
    "#### DecisionTreeClassifier"
   ]
  },
  {
   "cell_type": "code",
   "execution_count": 41,
   "id": "229b20a0",
   "metadata": {},
   "outputs": [
    {
     "name": "stdout",
     "output_type": "stream",
     "text": [
      "Training Accuracy     : 98.6\n",
      "Model Accuracy Score  : 77.65\n"
     ]
    }
   ],
   "source": [
    "from sklearn.tree import DecisionTreeClassifier\n",
    "decision = DecisionTreeClassifier()\n",
    "decision.fit(X_train, Y_train)\n",
    "Y_pred = decision.predict(X_test)\n",
    "\n",
    "decision_train = round(decision.score(X_train, Y_train) * 100, 2)\n",
    "decision_accuracy = round(accuracy_score(Y_pred, Y_test) * 100, 2)\n",
    "\n",
    "print(\"Training Accuracy     :\",decision_train)\n",
    "print(\"Model Accuracy Score  :\",decision_accuracy)"
   ]
  },
  {
   "cell_type": "markdown",
   "id": "9f89b9b3",
   "metadata": {},
   "source": [
    "#### RandomForestClassifier"
   ]
  },
  {
   "cell_type": "code",
   "execution_count": 42,
   "id": "6e3a7819",
   "metadata": {},
   "outputs": [
    {
     "name": "stdout",
     "output_type": "stream",
     "text": [
      "Training Accuracy     : 98.6\n",
      "Model Accuracy Score  : 82.12\n"
     ]
    }
   ],
   "source": [
    "from sklearn.ensemble import RandomForestClassifier\n",
    "random_forest = RandomForestClassifier(n_estimators=100)\n",
    "random_forest.fit(X_train, Y_train)\n",
    "Y_pred = random_forest.predict(X_test)\n",
    "random_forest.score(X_train, Y_train)\n",
    "\n",
    "random_forest_train = round(random_forest.score(X_train, Y_train) * 100, 2)\n",
    "random_forest_accuracy = round(accuracy_score(Y_pred, Y_test) * 100, 2)\n",
    "\n",
    "print(\"Training Accuracy     :\",random_forest_train)\n",
    "print(\"Model Accuracy Score  :\",random_forest_accuracy)"
   ]
  },
  {
   "cell_type": "markdown",
   "id": "cd488015",
   "metadata": {},
   "source": [
    "#### MLPClassifier"
   ]
  },
  {
   "cell_type": "code",
   "execution_count": 43,
   "id": "24bd2690",
   "metadata": {},
   "outputs": [
    {
     "name": "stdout",
     "output_type": "stream",
     "text": [
      "Training Accuracy     : 85.96\n",
      "Model Accuracy Score  : 82.12\n"
     ]
    }
   ],
   "source": [
    "from sklearn.neural_network import MLPClassifier\n",
    "mlp = MLPClassifier()\n",
    "mlp.fit(X_train,Y_train)\n",
    "Y_pred = mlp.predict(X_test)\n",
    "mlp.score(X_train, Y_train)\n",
    "\n",
    "\n",
    "mlp_train = round(mlp.score(X_train, Y_train) * 100, 2)\n",
    "mlp_accuracy = round(accuracy_score(Y_pred, Y_test) * 100, 2)\n",
    "\n",
    "print(\"Training Accuracy     :\",mlp_train)\n",
    "print(\"Model Accuracy Score  :\",mlp_accuracy)"
   ]
  },
  {
   "cell_type": "markdown",
   "id": "bbbbe905",
   "metadata": {},
   "source": [
    "#### XGBClassifier"
   ]
  },
  {
   "cell_type": "code",
   "execution_count": 44,
   "id": "2bf329c6",
   "metadata": {},
   "outputs": [
    {
     "name": "stdout",
     "output_type": "stream",
     "text": [
      "Training Accuracy     : 97.33\n",
      "Model Accuracy Score  : 83.8\n"
     ]
    }
   ],
   "source": [
    "import xgboost as Xgb\n",
    "xgb = Xgb.XGBClassifier()\n",
    "xgb.fit(X_train,Y_train)\n",
    "Y_pred = xgb.predict(X_test)\n",
    "xgb.score(X_train, Y_train)\n",
    "\n",
    "xgb_train = round(xgb.score(X_train, Y_train) * 100, 2)\n",
    "xgb_accuracy = round(accuracy_score(Y_pred, Y_test) * 100, 2)\n",
    "\n",
    "print(\"Training Accuracy     :\",xgb_train)\n",
    "print(\"Model Accuracy Score  :\",xgb_accuracy)"
   ]
  },
  {
   "cell_type": "code",
   "execution_count": 45,
   "id": "49734814",
   "metadata": {},
   "outputs": [],
   "source": [
    "models = pd.DataFrame({\n",
    "    'Model': [\n",
    "        'Support Vector Machines', 'KNN', 'Logistic Regression',\n",
    "        'Random Forest',  'Perceptron',\n",
    "        'Stochastic Gradient Decent', 'Linear SVC', 'Decision Tree',\n",
    "        'GaussianNB', 'MLPClassifier', 'XGBClassifier'\n",
    "    ],\n",
    "    'Training Accuracy': [\n",
    "        log_train, svc_train, knn_train, gaussian_train, perceptron_train,\n",
    "        linear_svc_train, sgd_train, decision_train, random_forest_train,\n",
    "        mlp_train, xgb_train\n",
    "    ],\n",
    "    'Model Accuracy Score': [\n",
    "        log_accuracy, svc_accuracy, knn_accuracy, gaussian_accuracy, perceptron_accuracy,\n",
    "        linear_svc_accuracy, sgd_accuracy, decision_accuracy, random_forest_accuracy,\n",
    "        mlp_accuracy, xgb_accuracy\n",
    "    ]\n",
    "})"
   ]
  },
  {
   "cell_type": "code",
   "execution_count": 46,
   "id": "2b28279d",
   "metadata": {
    "scrolled": true
   },
   "outputs": [
    {
     "data": {
      "text/html": [
       "<div>\n",
       "<style scoped>\n",
       "    .dataframe tbody tr th:only-of-type {\n",
       "        vertical-align: middle;\n",
       "    }\n",
       "\n",
       "    .dataframe tbody tr th {\n",
       "        vertical-align: top;\n",
       "    }\n",
       "\n",
       "    .dataframe thead th {\n",
       "        text-align: right;\n",
       "    }\n",
       "</style>\n",
       "<table border=\"1\" class=\"dataframe\">\n",
       "  <thead>\n",
       "    <tr style=\"text-align: right;\">\n",
       "      <th></th>\n",
       "      <th>Model</th>\n",
       "      <th>Training Accuracy</th>\n",
       "      <th>Model Accuracy Score</th>\n",
       "    </tr>\n",
       "  </thead>\n",
       "  <tbody>\n",
       "    <tr>\n",
       "      <th>0</th>\n",
       "      <td>XGBClassifier</td>\n",
       "      <td>97.330000</td>\n",
       "      <td>83.80</td>\n",
       "    </tr>\n",
       "    <tr>\n",
       "      <th>1</th>\n",
       "      <td>KNN</td>\n",
       "      <td>84.831461</td>\n",
       "      <td>82.12</td>\n",
       "    </tr>\n",
       "    <tr>\n",
       "      <th>2</th>\n",
       "      <td>GaussianNB</td>\n",
       "      <td>98.600000</td>\n",
       "      <td>82.12</td>\n",
       "    </tr>\n",
       "    <tr>\n",
       "      <th>3</th>\n",
       "      <td>MLPClassifier</td>\n",
       "      <td>85.960000</td>\n",
       "      <td>82.12</td>\n",
       "    </tr>\n",
       "    <tr>\n",
       "      <th>4</th>\n",
       "      <td>Random Forest</td>\n",
       "      <td>79.070000</td>\n",
       "      <td>81.56</td>\n",
       "    </tr>\n",
       "    <tr>\n",
       "      <th>5</th>\n",
       "      <td>Logistic Regression</td>\n",
       "      <td>86.520000</td>\n",
       "      <td>81.01</td>\n",
       "    </tr>\n",
       "    <tr>\n",
       "      <th>6</th>\n",
       "      <td>Support Vector Machines</td>\n",
       "      <td>80.480000</td>\n",
       "      <td>80.45</td>\n",
       "    </tr>\n",
       "    <tr>\n",
       "      <th>7</th>\n",
       "      <td>Stochastic Gradient Decent</td>\n",
       "      <td>80.340000</td>\n",
       "      <td>80.45</td>\n",
       "    </tr>\n",
       "    <tr>\n",
       "      <th>8</th>\n",
       "      <td>Linear SVC</td>\n",
       "      <td>80.060000</td>\n",
       "      <td>79.89</td>\n",
       "    </tr>\n",
       "    <tr>\n",
       "      <th>9</th>\n",
       "      <td>Decision Tree</td>\n",
       "      <td>98.600000</td>\n",
       "      <td>77.65</td>\n",
       "    </tr>\n",
       "    <tr>\n",
       "      <th>10</th>\n",
       "      <td>Perceptron</td>\n",
       "      <td>71.630000</td>\n",
       "      <td>70.95</td>\n",
       "    </tr>\n",
       "  </tbody>\n",
       "</table>\n",
       "</div>"
      ],
      "text/plain": [
       "                         Model  Training Accuracy  Model Accuracy Score\n",
       "0                XGBClassifier          97.330000                 83.80\n",
       "1                          KNN          84.831461                 82.12\n",
       "2                   GaussianNB          98.600000                 82.12\n",
       "3                MLPClassifier          85.960000                 82.12\n",
       "4                Random Forest          79.070000                 81.56\n",
       "5          Logistic Regression          86.520000                 81.01\n",
       "6      Support Vector Machines          80.480000                 80.45\n",
       "7   Stochastic Gradient Decent          80.340000                 80.45\n",
       "8                   Linear SVC          80.060000                 79.89\n",
       "9                Decision Tree          98.600000                 77.65\n",
       "10                  Perceptron          71.630000                 70.95"
      ]
     },
     "execution_count": 46,
     "metadata": {},
     "output_type": "execute_result"
    }
   ],
   "source": [
    "models.sort_values(by='Model Accuracy Score', ascending=False, ignore_index=True)"
   ]
  }
 ],
 "metadata": {
  "kernelspec": {
   "display_name": "Python 3 (ipykernel)",
   "language": "python",
   "name": "python3"
  },
  "language_info": {
   "codemirror_mode": {
    "name": "ipython",
    "version": 3
   },
   "file_extension": ".py",
   "mimetype": "text/x-python",
   "name": "python",
   "nbconvert_exporter": "python",
   "pygments_lexer": "ipython3",
   "version": "3.9.7"
  }
 },
 "nbformat": 4,
 "nbformat_minor": 5
}
